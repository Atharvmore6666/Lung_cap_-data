{
 "cells": [
  {
   "cell_type": "code",
   "execution_count": 1,
   "id": "5bbb1611",
   "metadata": {},
   "outputs": [],
   "source": [
    "import pandas as pd\n",
    "import numpy as np"
   ]
  },
  {
   "cell_type": "code",
   "execution_count": 2,
   "id": "1d7d6c5e",
   "metadata": {},
   "outputs": [],
   "source": [
    "df = pd.read_csv(r\"C:\\Users\\Dell\\OneDrive\\Desktop\\ML PROJECT\\LungCapData.csv\")\n",
    "pd.set_option('display.max_columns', None)\n",
    "pd.set_option('display.max_rows',None)"
   ]
  },
  {
   "cell_type": "code",
   "execution_count": 3,
   "id": "6ab6c58f",
   "metadata": {},
   "outputs": [
    {
     "data": {
      "text/html": [
       "<div>\n",
       "<style scoped>\n",
       "    .dataframe tbody tr th:only-of-type {\n",
       "        vertical-align: middle;\n",
       "    }\n",
       "\n",
       "    .dataframe tbody tr th {\n",
       "        vertical-align: top;\n",
       "    }\n",
       "\n",
       "    .dataframe thead th {\n",
       "        text-align: right;\n",
       "    }\n",
       "</style>\n",
       "<table border=\"1\" class=\"dataframe\">\n",
       "  <thead>\n",
       "    <tr style=\"text-align: right;\">\n",
       "      <th></th>\n",
       "      <th>LungCap</th>\n",
       "      <th>Age</th>\n",
       "      <th>Height</th>\n",
       "      <th>Smoke</th>\n",
       "      <th>Gender</th>\n",
       "      <th>Caesarean</th>\n",
       "    </tr>\n",
       "  </thead>\n",
       "  <tbody>\n",
       "    <tr>\n",
       "      <th>0</th>\n",
       "      <td>6.475</td>\n",
       "      <td>6</td>\n",
       "      <td>62.1</td>\n",
       "      <td>no</td>\n",
       "      <td>male</td>\n",
       "      <td>no</td>\n",
       "    </tr>\n",
       "    <tr>\n",
       "      <th>1</th>\n",
       "      <td>10.125</td>\n",
       "      <td>18</td>\n",
       "      <td>74.7</td>\n",
       "      <td>yes</td>\n",
       "      <td>female</td>\n",
       "      <td>no</td>\n",
       "    </tr>\n",
       "    <tr>\n",
       "      <th>2</th>\n",
       "      <td>9.550</td>\n",
       "      <td>16</td>\n",
       "      <td>69.7</td>\n",
       "      <td>no</td>\n",
       "      <td>female</td>\n",
       "      <td>yes</td>\n",
       "    </tr>\n",
       "    <tr>\n",
       "      <th>3</th>\n",
       "      <td>11.125</td>\n",
       "      <td>14</td>\n",
       "      <td>71.0</td>\n",
       "      <td>no</td>\n",
       "      <td>male</td>\n",
       "      <td>no</td>\n",
       "    </tr>\n",
       "    <tr>\n",
       "      <th>4</th>\n",
       "      <td>4.800</td>\n",
       "      <td>5</td>\n",
       "      <td>56.9</td>\n",
       "      <td>no</td>\n",
       "      <td>male</td>\n",
       "      <td>no</td>\n",
       "    </tr>\n",
       "  </tbody>\n",
       "</table>\n",
       "</div>"
      ],
      "text/plain": [
       "   LungCap  Age  Height Smoke  Gender Caesarean\n",
       "0    6.475    6    62.1    no    male        no\n",
       "1   10.125   18    74.7   yes  female        no\n",
       "2    9.550   16    69.7    no  female       yes\n",
       "3   11.125   14    71.0    no    male        no\n",
       "4    4.800    5    56.9    no    male        no"
      ]
     },
     "execution_count": 3,
     "metadata": {},
     "output_type": "execute_result"
    }
   ],
   "source": [
    "df.head()"
   ]
  },
  {
   "cell_type": "code",
   "execution_count": 4,
   "id": "d1f902ba",
   "metadata": {},
   "outputs": [
    {
     "data": {
      "text/plain": [
       "(725, 6)"
      ]
     },
     "execution_count": 4,
     "metadata": {},
     "output_type": "execute_result"
    }
   ],
   "source": [
    "df.shape"
   ]
  },
  {
   "cell_type": "code",
   "execution_count": 16,
   "id": "fd2d59dd",
   "metadata": {},
   "outputs": [
    {
     "name": "stdout",
     "output_type": "stream",
     "text": [
      "<class 'pandas.core.frame.DataFrame'>\n",
      "RangeIndex: 725 entries, 0 to 724\n",
      "Data columns (total 6 columns):\n",
      " #   Column     Non-Null Count  Dtype  \n",
      "---  ------     --------------  -----  \n",
      " 0   LungCap    725 non-null    float64\n",
      " 1   Age        725 non-null    int64  \n",
      " 2   Height     725 non-null    float64\n",
      " 3   Smoke      725 non-null    object \n",
      " 4   Gender     725 non-null    object \n",
      " 5   Caesarean  725 non-null    object \n",
      "dtypes: float64(2), int64(1), object(3)\n",
      "memory usage: 34.1+ KB\n"
     ]
    }
   ],
   "source": [
    "\n",
    "df. info()\n"
   ]
  },
  {
   "cell_type": "code",
   "execution_count": 17,
   "id": "9848655a",
   "metadata": {},
   "outputs": [
    {
     "data": {
      "text/plain": [
       "LungCap      0\n",
       "Age          0\n",
       "Height       0\n",
       "Smoke        0\n",
       "Gender       0\n",
       "Caesarean    0\n",
       "dtype: int64"
      ]
     },
     "execution_count": 17,
     "metadata": {},
     "output_type": "execute_result"
    }
   ],
   "source": [
    "df.isnull().sum()"
   ]
  },
  {
   "cell_type": "code",
   "execution_count": null,
   "id": "6c5fdffa",
   "metadata": {},
   "outputs": [],
   "source": [
    "\n"
   ]
  },
  {
   "cell_type": "code",
   "execution_count": 18,
   "id": "7c7bd8f8",
   "metadata": {},
   "outputs": [],
   "source": [
    "from sklearn.preprocessing import LabelEncoder"
   ]
  },
  {
   "cell_type": "code",
   "execution_count": 19,
   "id": "11e0ef2d",
   "metadata": {},
   "outputs": [],
   "source": [
    "label_encoder = LabelEncoder()"
   ]
  },
  {
   "cell_type": "code",
   "execution_count": 20,
   "id": "02fdb19d",
   "metadata": {},
   "outputs": [],
   "source": [
    "for column in df.columns:\n",
    "    if df[column].dtype == 'object':  # Check if column contains categorical data\n",
    "        df[column] = label_encoder.fit_transform(df[column])"
   ]
  },
  {
   "cell_type": "code",
   "execution_count": 21,
   "id": "32d8348c",
   "metadata": {},
   "outputs": [
    {
     "data": {
      "text/html": [
       "<div>\n",
       "<style scoped>\n",
       "    .dataframe tbody tr th:only-of-type {\n",
       "        vertical-align: middle;\n",
       "    }\n",
       "\n",
       "    .dataframe tbody tr th {\n",
       "        vertical-align: top;\n",
       "    }\n",
       "\n",
       "    .dataframe thead th {\n",
       "        text-align: right;\n",
       "    }\n",
       "</style>\n",
       "<table border=\"1\" class=\"dataframe\">\n",
       "  <thead>\n",
       "    <tr style=\"text-align: right;\">\n",
       "      <th></th>\n",
       "      <th>LungCap</th>\n",
       "      <th>Age</th>\n",
       "      <th>Height</th>\n",
       "      <th>Smoke</th>\n",
       "      <th>Gender</th>\n",
       "      <th>Caesarean</th>\n",
       "    </tr>\n",
       "  </thead>\n",
       "  <tbody>\n",
       "    <tr>\n",
       "      <th>0</th>\n",
       "      <td>6.475</td>\n",
       "      <td>6</td>\n",
       "      <td>62.1</td>\n",
       "      <td>0</td>\n",
       "      <td>1</td>\n",
       "      <td>0</td>\n",
       "    </tr>\n",
       "    <tr>\n",
       "      <th>1</th>\n",
       "      <td>10.125</td>\n",
       "      <td>18</td>\n",
       "      <td>74.7</td>\n",
       "      <td>1</td>\n",
       "      <td>0</td>\n",
       "      <td>0</td>\n",
       "    </tr>\n",
       "    <tr>\n",
       "      <th>2</th>\n",
       "      <td>9.550</td>\n",
       "      <td>16</td>\n",
       "      <td>69.7</td>\n",
       "      <td>0</td>\n",
       "      <td>0</td>\n",
       "      <td>1</td>\n",
       "    </tr>\n",
       "    <tr>\n",
       "      <th>3</th>\n",
       "      <td>11.125</td>\n",
       "      <td>14</td>\n",
       "      <td>71.0</td>\n",
       "      <td>0</td>\n",
       "      <td>1</td>\n",
       "      <td>0</td>\n",
       "    </tr>\n",
       "    <tr>\n",
       "      <th>4</th>\n",
       "      <td>4.800</td>\n",
       "      <td>5</td>\n",
       "      <td>56.9</td>\n",
       "      <td>0</td>\n",
       "      <td>1</td>\n",
       "      <td>0</td>\n",
       "    </tr>\n",
       "  </tbody>\n",
       "</table>\n",
       "</div>"
      ],
      "text/plain": [
       "   LungCap  Age  Height  Smoke  Gender  Caesarean\n",
       "0    6.475    6    62.1      0       1          0\n",
       "1   10.125   18    74.7      1       0          0\n",
       "2    9.550   16    69.7      0       0          1\n",
       "3   11.125   14    71.0      0       1          0\n",
       "4    4.800    5    56.9      0       1          0"
      ]
     },
     "execution_count": 21,
     "metadata": {},
     "output_type": "execute_result"
    }
   ],
   "source": [
    "df.head()"
   ]
  },
  {
   "cell_type": "code",
   "execution_count": 22,
   "id": "beedf8b5",
   "metadata": {},
   "outputs": [
    {
     "name": "stdout",
     "output_type": "stream",
     "text": [
      "<class 'pandas.core.frame.DataFrame'>\n",
      "RangeIndex: 725 entries, 0 to 724\n",
      "Data columns (total 6 columns):\n",
      " #   Column     Non-Null Count  Dtype  \n",
      "---  ------     --------------  -----  \n",
      " 0   LungCap    725 non-null    float64\n",
      " 1   Age        725 non-null    int64  \n",
      " 2   Height     725 non-null    float64\n",
      " 3   Smoke      725 non-null    int32  \n",
      " 4   Gender     725 non-null    int32  \n",
      " 5   Caesarean  725 non-null    int32  \n",
      "dtypes: float64(2), int32(3), int64(1)\n",
      "memory usage: 25.6 KB\n"
     ]
    }
   ],
   "source": [
    "df. info()"
   ]
  },
  {
   "cell_type": "code",
   "execution_count": 23,
   "id": "bf4fcf04",
   "metadata": {},
   "outputs": [],
   "source": [
    "from sklearn.model_selection import train_test_split"
   ]
  },
  {
   "cell_type": "code",
   "execution_count": 24,
   "id": "6eb2e584",
   "metadata": {},
   "outputs": [],
   "source": [
    "df_train,df_test = train_test_split(df, test_size=0.25)"
   ]
  },
  {
   "cell_type": "code",
   "execution_count": 25,
   "id": "b641da6b",
   "metadata": {},
   "outputs": [],
   "source": [
    "df_train_x = df_train.iloc[: , 1::]\n",
    "df_train_y = df_train.iloc[: , 0]"
   ]
  },
  {
   "cell_type": "code",
   "execution_count": 26,
   "id": "0bf39e60",
   "metadata": {},
   "outputs": [
    {
     "data": {
      "text/html": [
       "<div>\n",
       "<style scoped>\n",
       "    .dataframe tbody tr th:only-of-type {\n",
       "        vertical-align: middle;\n",
       "    }\n",
       "\n",
       "    .dataframe tbody tr th {\n",
       "        vertical-align: top;\n",
       "    }\n",
       "\n",
       "    .dataframe thead th {\n",
       "        text-align: right;\n",
       "    }\n",
       "</style>\n",
       "<table border=\"1\" class=\"dataframe\">\n",
       "  <thead>\n",
       "    <tr style=\"text-align: right;\">\n",
       "      <th></th>\n",
       "      <th>Age</th>\n",
       "      <th>Height</th>\n",
       "      <th>Smoke</th>\n",
       "      <th>Gender</th>\n",
       "      <th>Caesarean</th>\n",
       "    </tr>\n",
       "  </thead>\n",
       "  <tbody>\n",
       "    <tr>\n",
       "      <th>285</th>\n",
       "      <td>11</td>\n",
       "      <td>66.9</td>\n",
       "      <td>0</td>\n",
       "      <td>0</td>\n",
       "      <td>1</td>\n",
       "    </tr>\n",
       "    <tr>\n",
       "      <th>437</th>\n",
       "      <td>14</td>\n",
       "      <td>67.7</td>\n",
       "      <td>0</td>\n",
       "      <td>0</td>\n",
       "      <td>0</td>\n",
       "    </tr>\n",
       "    <tr>\n",
       "      <th>302</th>\n",
       "      <td>10</td>\n",
       "      <td>59.7</td>\n",
       "      <td>0</td>\n",
       "      <td>1</td>\n",
       "      <td>0</td>\n",
       "    </tr>\n",
       "    <tr>\n",
       "      <th>347</th>\n",
       "      <td>12</td>\n",
       "      <td>55.0</td>\n",
       "      <td>0</td>\n",
       "      <td>0</td>\n",
       "      <td>0</td>\n",
       "    </tr>\n",
       "    <tr>\n",
       "      <th>359</th>\n",
       "      <td>7</td>\n",
       "      <td>56.3</td>\n",
       "      <td>0</td>\n",
       "      <td>1</td>\n",
       "      <td>0</td>\n",
       "    </tr>\n",
       "  </tbody>\n",
       "</table>\n",
       "</div>"
      ],
      "text/plain": [
       "     Age  Height  Smoke  Gender  Caesarean\n",
       "285   11    66.9      0       0          1\n",
       "437   14    67.7      0       0          0\n",
       "302   10    59.7      0       1          0\n",
       "347   12    55.0      0       0          0\n",
       "359    7    56.3      0       1          0"
      ]
     },
     "execution_count": 26,
     "metadata": {},
     "output_type": "execute_result"
    }
   ],
   "source": [
    "df_train_x.head()"
   ]
  },
  {
   "cell_type": "code",
   "execution_count": 27,
   "id": "32d7d902",
   "metadata": {},
   "outputs": [
    {
     "data": {
      "text/plain": [
       "285    6.200\n",
       "437    8.425\n",
       "302    6.550\n",
       "347    5.025\n",
       "359    3.675\n",
       "Name: LungCap, dtype: float64"
      ]
     },
     "execution_count": 27,
     "metadata": {},
     "output_type": "execute_result"
    }
   ],
   "source": [
    "df_train_y.head()"
   ]
  },
  {
   "cell_type": "code",
   "execution_count": 28,
   "id": "393ef3d9",
   "metadata": {},
   "outputs": [],
   "source": [
    "df_test_x = df_test.iloc[: , 1::]\n",
    "df_test_y = df_test.iloc[: , 0]"
   ]
  },
  {
   "cell_type": "code",
   "execution_count": 29,
   "id": "74533128",
   "metadata": {},
   "outputs": [
    {
     "data": {
      "text/html": [
       "<div>\n",
       "<style scoped>\n",
       "    .dataframe tbody tr th:only-of-type {\n",
       "        vertical-align: middle;\n",
       "    }\n",
       "\n",
       "    .dataframe tbody tr th {\n",
       "        vertical-align: top;\n",
       "    }\n",
       "\n",
       "    .dataframe thead th {\n",
       "        text-align: right;\n",
       "    }\n",
       "</style>\n",
       "<table border=\"1\" class=\"dataframe\">\n",
       "  <thead>\n",
       "    <tr style=\"text-align: right;\">\n",
       "      <th></th>\n",
       "      <th>Age</th>\n",
       "      <th>Height</th>\n",
       "      <th>Smoke</th>\n",
       "      <th>Gender</th>\n",
       "      <th>Caesarean</th>\n",
       "    </tr>\n",
       "  </thead>\n",
       "  <tbody>\n",
       "    <tr>\n",
       "      <th>200</th>\n",
       "      <td>13</td>\n",
       "      <td>68.6</td>\n",
       "      <td>0</td>\n",
       "      <td>1</td>\n",
       "      <td>0</td>\n",
       "    </tr>\n",
       "    <tr>\n",
       "      <th>122</th>\n",
       "      <td>17</td>\n",
       "      <td>78.6</td>\n",
       "      <td>0</td>\n",
       "      <td>1</td>\n",
       "      <td>1</td>\n",
       "    </tr>\n",
       "    <tr>\n",
       "      <th>245</th>\n",
       "      <td>6</td>\n",
       "      <td>55.1</td>\n",
       "      <td>0</td>\n",
       "      <td>0</td>\n",
       "      <td>0</td>\n",
       "    </tr>\n",
       "    <tr>\n",
       "      <th>213</th>\n",
       "      <td>15</td>\n",
       "      <td>66.4</td>\n",
       "      <td>0</td>\n",
       "      <td>0</td>\n",
       "      <td>0</td>\n",
       "    </tr>\n",
       "    <tr>\n",
       "      <th>307</th>\n",
       "      <td>14</td>\n",
       "      <td>69.4</td>\n",
       "      <td>0</td>\n",
       "      <td>0</td>\n",
       "      <td>0</td>\n",
       "    </tr>\n",
       "  </tbody>\n",
       "</table>\n",
       "</div>"
      ],
      "text/plain": [
       "     Age  Height  Smoke  Gender  Caesarean\n",
       "200   13    68.6      0       1          0\n",
       "122   17    78.6      0       1          1\n",
       "245    6    55.1      0       0          0\n",
       "213   15    66.4      0       0          0\n",
       "307   14    69.4      0       0          0"
      ]
     },
     "execution_count": 29,
     "metadata": {},
     "output_type": "execute_result"
    }
   ],
   "source": [
    "df_test_x.head()"
   ]
  },
  {
   "cell_type": "code",
   "execution_count": 30,
   "id": "5dff69fc",
   "metadata": {
    "scrolled": true
   },
   "outputs": [
    {
     "data": {
      "text/plain": [
       "(182, 5)"
      ]
     },
     "execution_count": 30,
     "metadata": {},
     "output_type": "execute_result"
    }
   ],
   "source": [
    "df_test_x.shape"
   ]
  },
  {
   "cell_type": "code",
   "execution_count": 31,
   "id": "06bd7d4a",
   "metadata": {},
   "outputs": [],
   "source": [
    "from sklearn.linear_model import LinearRegression"
   ]
  },
  {
   "cell_type": "code",
   "execution_count": 32,
   "id": "372123dc",
   "metadata": {},
   "outputs": [],
   "source": [
    "lin_reg = LinearRegression()"
   ]
  },
  {
   "cell_type": "code",
   "execution_count": null,
   "id": "b546afaf",
   "metadata": {},
   "outputs": [],
   "source": []
  },
  {
   "cell_type": "code",
   "execution_count": 33,
   "id": "d872144a",
   "metadata": {},
   "outputs": [
    {
     "data": {
      "text/html": [
       "<style>#sk-container-id-1 {color: black;background-color: white;}#sk-container-id-1 pre{padding: 0;}#sk-container-id-1 div.sk-toggleable {background-color: white;}#sk-container-id-1 label.sk-toggleable__label {cursor: pointer;display: block;width: 100%;margin-bottom: 0;padding: 0.3em;box-sizing: border-box;text-align: center;}#sk-container-id-1 label.sk-toggleable__label-arrow:before {content: \"▸\";float: left;margin-right: 0.25em;color: #696969;}#sk-container-id-1 label.sk-toggleable__label-arrow:hover:before {color: black;}#sk-container-id-1 div.sk-estimator:hover label.sk-toggleable__label-arrow:before {color: black;}#sk-container-id-1 div.sk-toggleable__content {max-height: 0;max-width: 0;overflow: hidden;text-align: left;background-color: #f0f8ff;}#sk-container-id-1 div.sk-toggleable__content pre {margin: 0.2em;color: black;border-radius: 0.25em;background-color: #f0f8ff;}#sk-container-id-1 input.sk-toggleable__control:checked~div.sk-toggleable__content {max-height: 200px;max-width: 100%;overflow: auto;}#sk-container-id-1 input.sk-toggleable__control:checked~label.sk-toggleable__label-arrow:before {content: \"▾\";}#sk-container-id-1 div.sk-estimator input.sk-toggleable__control:checked~label.sk-toggleable__label {background-color: #d4ebff;}#sk-container-id-1 div.sk-label input.sk-toggleable__control:checked~label.sk-toggleable__label {background-color: #d4ebff;}#sk-container-id-1 input.sk-hidden--visually {border: 0;clip: rect(1px 1px 1px 1px);clip: rect(1px, 1px, 1px, 1px);height: 1px;margin: -1px;overflow: hidden;padding: 0;position: absolute;width: 1px;}#sk-container-id-1 div.sk-estimator {font-family: monospace;background-color: #f0f8ff;border: 1px dotted black;border-radius: 0.25em;box-sizing: border-box;margin-bottom: 0.5em;}#sk-container-id-1 div.sk-estimator:hover {background-color: #d4ebff;}#sk-container-id-1 div.sk-parallel-item::after {content: \"\";width: 100%;border-bottom: 1px solid gray;flex-grow: 1;}#sk-container-id-1 div.sk-label:hover label.sk-toggleable__label {background-color: #d4ebff;}#sk-container-id-1 div.sk-serial::before {content: \"\";position: absolute;border-left: 1px solid gray;box-sizing: border-box;top: 0;bottom: 0;left: 50%;z-index: 0;}#sk-container-id-1 div.sk-serial {display: flex;flex-direction: column;align-items: center;background-color: white;padding-right: 0.2em;padding-left: 0.2em;position: relative;}#sk-container-id-1 div.sk-item {position: relative;z-index: 1;}#sk-container-id-1 div.sk-parallel {display: flex;align-items: stretch;justify-content: center;background-color: white;position: relative;}#sk-container-id-1 div.sk-item::before, #sk-container-id-1 div.sk-parallel-item::before {content: \"\";position: absolute;border-left: 1px solid gray;box-sizing: border-box;top: 0;bottom: 0;left: 50%;z-index: -1;}#sk-container-id-1 div.sk-parallel-item {display: flex;flex-direction: column;z-index: 1;position: relative;background-color: white;}#sk-container-id-1 div.sk-parallel-item:first-child::after {align-self: flex-end;width: 50%;}#sk-container-id-1 div.sk-parallel-item:last-child::after {align-self: flex-start;width: 50%;}#sk-container-id-1 div.sk-parallel-item:only-child::after {width: 0;}#sk-container-id-1 div.sk-dashed-wrapped {border: 1px dashed gray;margin: 0 0.4em 0.5em 0.4em;box-sizing: border-box;padding-bottom: 0.4em;background-color: white;}#sk-container-id-1 div.sk-label label {font-family: monospace;font-weight: bold;display: inline-block;line-height: 1.2em;}#sk-container-id-1 div.sk-label-container {text-align: center;}#sk-container-id-1 div.sk-container {/* jupyter's `normalize.less` sets `[hidden] { display: none; }` but bootstrap.min.css set `[hidden] { display: none !important; }` so we also need the `!important` here to be able to override the default hidden behavior on the sphinx rendered scikit-learn.org. See: https://github.com/scikit-learn/scikit-learn/issues/21755 */display: inline-block !important;position: relative;}#sk-container-id-1 div.sk-text-repr-fallback {display: none;}</style><div id=\"sk-container-id-1\" class=\"sk-top-container\"><div class=\"sk-text-repr-fallback\"><pre>LinearRegression()</pre><b>In a Jupyter environment, please rerun this cell to show the HTML representation or trust the notebook. <br />On GitHub, the HTML representation is unable to render, please try loading this page with nbviewer.org.</b></div><div class=\"sk-container\" hidden><div class=\"sk-item\"><div class=\"sk-estimator sk-toggleable\"><input class=\"sk-toggleable__control sk-hidden--visually\" id=\"sk-estimator-id-1\" type=\"checkbox\" checked><label for=\"sk-estimator-id-1\" class=\"sk-toggleable__label sk-toggleable__label-arrow\">LinearRegression</label><div class=\"sk-toggleable__content\"><pre>LinearRegression()</pre></div></div></div></div></div>"
      ],
      "text/plain": [
       "LinearRegression()"
      ]
     },
     "execution_count": 33,
     "metadata": {},
     "output_type": "execute_result"
    }
   ],
   "source": [
    "lin_reg.fit(df_train_x , df_train_y)"
   ]
  },
  {
   "cell_type": "code",
   "execution_count": 35,
   "id": "7e895912",
   "metadata": {},
   "outputs": [],
   "source": [
    "pred_train = lin_reg.predict(df_train_x) \n",
    "pred_test = lin_reg .predict(df_test_x)"
   ]
  },
  {
   "cell_type": "code",
   "execution_count": 36,
   "id": "35b027a5",
   "metadata": {},
   "outputs": [
    {
     "data": {
      "text/plain": [
       "array([ 7.93035468,  8.74885441,  6.42915866,  5.05374477,  5.06212741,\n",
       "        5.01556454,  7.07472845,  8.76873592,  6.46785698,  5.84948664,\n",
       "        7.51131743,  5.55468172,  9.65028556, 10.94431246,  8.13023883,\n",
       "       10.2898464 ,  6.7040767 ,  7.13619559,  7.95521341,  7.40850452,\n",
       "        6.3041291 ,  6.30148702,  3.94831005,  9.70206552,  7.85007073,\n",
       "        5.05453569,  5.02864618, 11.07747941,  6.17594476,  9.77689251,\n",
       "        8.39598776,  9.25006513, 10.14308511,  8.15612927,  3.27341144,\n",
       "        8.94870559,  7.12129131,  7.01614864,  9.43735274,  7.04283   ,\n",
       "       10.27126946,  7.97667768,  9.48233284,  7.51839013,  9.31022771,\n",
       "        6.40429994,  7.15504537,  2.80176941, 11.55774393,  8.5756846 ,\n",
       "       11.47089998,  4.45419124,  7.62302011,  9.40387152,  3.30167558,\n",
       "        8.95028836,  2.62179974,  7.7428272 ,  8.81688155,  4.05397081,\n",
       "        3.31499708,  9.27046471, 10.81248842,  8.44334248,  8.13807041,\n",
       "        4.00167278,  6.97089032,  7.32245149,  7.25130367,  7.81682937,\n",
       "        7.8171022 ,  6.19424349,  5.74224311,  8.65181615,  4.64096078,\n",
       "        8.12838322,  9.975679  , 11.16954044,  9.89120874,  1.53964097,\n",
       "        9.56419956,  8.06300355,  9.18362076,  8.5955661 ,  8.9434885 ,\n",
       "        8.82368141,  9.75021115,  7.75642692,  8.22309172, 11.2909303 ,\n",
       "       10.34293629,  9.14175691, 11.46303543,  2.10623136,  6.7147891 ,\n",
       "       11.33121139, 10.81746564,  9.52261392,  5.70927996,  6.71636649,\n",
       "       11.49651665,  3.35345553,  7.22303954,  6.36793139,  4.62736106,\n",
       "        7.12311395,  9.2252064 ,  8.45535943,  8.9832515 ,  7.78204359,\n",
       "        9.75048399,  9.44387439,  8.51030492,  4.9276559 ,  5.90126659,\n",
       "        8.15506458,  8.39519684,  5.16885286,  9.53047847,  5.92794795,\n",
       "        6.92144014, 10.54385216,  5.87485806,  4.98888318,  9.42454394,\n",
       "        8.45666398,  6.72474912,  8.39519684,  9.45043439,  3.94151019,\n",
       "        6.0616276 ,  6.65489935,  4.52850016,  3.6082522 ,  9.28378621,\n",
       "       10.61709639, 10.239371  , 10.38400385,  6.56256548, 10.17632109,\n",
       "       10.43736657,  7.75590884,  8.47002384,  4.24180504,  9.80487843,\n",
       "        9.87760902,  9.72404787,  7.64183692,  9.92911614,  9.35572589,\n",
       "       12.37126644, 11.0377164 ,  5.76342916,  5.66113433,  5.31534131,\n",
       "        8.97827428,  3.70031324,  5.01006924,  5.14217149,  7.09749728,\n",
       "       10.64271306,  7.94999632, 11.56454379,  7.75773147,  9.44936969,\n",
       "        7.41585099,  6.26907049,  5.0082466 , 11.69115074, 11.62418829,\n",
       "       10.44286188,  3.10024163,  4.44739138,  9.8304951 ,  7.2761624 ,\n",
       "        8.30234395,  2.88236011,  3.48058056,  8.4019967 ,  4.41549293,\n",
       "       13.1518258 ,  4.48087261, 10.32332763,  5.20755117,  6.34804989,\n",
       "       10.98565823,  4.43537443,  9.97097999,  6.86286032, 10.7306217 ,\n",
       "        6.88274182,  9.23880612,  7.3036017 ,  7.73784997,  5.71449705,\n",
       "        7.80481242, 12.31683902,  5.69461555,  8.59663079, 10.5854378 ,\n",
       "        8.32981717,  7.57017546,  8.09648477,  9.95738027,  4.42253265,\n",
       "        5.74955567, 12.97316068,  5.54760902,  9.52288676, 10.02303278,\n",
       "       10.86296382,  5.19553422,  6.11419941,  6.44433578,  7.54139325,\n",
       "        7.38810494, 10.67045911,  1.08605781, 10.21581126,  3.06102523,\n",
       "        7.06844667,  5.162053  , 12.02440873,  6.45635811,  8.94372836,\n",
       "        9.88935313,  4.24702213,  3.05316068,  9.23045646,  7.18825376,\n",
       "        9.3154448 ,  6.28397477,  5.80240569,  8.42476553,  8.05513899,\n",
       "        5.17565272, 11.62521907,  8.12917414,  9.32904452,  8.92202423,\n",
       "        7.22279967,  2.19935709,  8.03684026, 10.89750973,  2.90093706,\n",
       "        4.56222125,  6.45635811,  8.06873872,  8.89692564,  6.46263989,\n",
       "        6.42311675,  8.87048414,  8.27147722,  7.50163025,  5.3744392 ,\n",
       "        9.78942754,  8.15036557,  7.46186724, 10.93099095,  8.74885441,\n",
       "       10.84414701, 11.2710488 ,  4.93393768,  6.0744364 ,  5.24233694,\n",
       "        9.77033251,  8.36353825,  6.24184252,  4.38905143,  6.68993037,\n",
       "        9.15773032,  8.14984749,  8.00857613,  9.69605657, 10.56582913,\n",
       "       10.44993458,  8.06300355, 11.1635315 ,  9.89224046,  9.17812545,\n",
       "        8.59663079,  2.14651244,  6.8578831 ,  8.70229155, 10.42431791,\n",
       "        9.1967024 ,  9.64870279,  8.31804008,  7.42158616,  8.34183412,\n",
       "        6.10791763,  6.29468716,  8.69549169, 11.28413044,  7.02243042,\n",
       "        5.77465964,  8.58983093, 10.7366297 ,  7.94188652,  9.26393769,\n",
       "        3.74348165,  3.32677417, 10.01623292,  4.46727288,  7.31146625,\n",
       "        8.1181889 ,  4.92085604,  7.69519964,  9.49593256,  9.98927872,\n",
       "        7.30336184,  1.95294305,  9.47605106,  3.52820811,  9.23646541,\n",
       "       10.79706606, 12.06468981,  5.34775784, 10.804384  , 10.29743812,\n",
       "       11.34322834,  9.37560739,  7.06951136,  8.88332592,  4.57399833,\n",
       "       11.17112321,  6.08803612,  6.93531269,  8.53722615,  9.91029932,\n",
       "       10.73742156,  7.90865054,  8.83676305, 10.17031309, 10.05730586,\n",
       "        2.03298713,  6.57458243,  3.84731977, 10.48942474,  8.09778932,\n",
       "        7.26256268,  6.47572153,  6.4814567 ,  2.58649588,  5.49424629,\n",
       "        9.92389905, 11.42433712,  7.16837226,  9.27073755,  5.22743267,\n",
       "        3.54180784,  3.48844511,  8.09020299,  7.20813526, 10.29901551,\n",
       "        7.49589508,  7.76322678,  8.15688722, 10.98511162,  2.35316348,\n",
       "        8.67014785, 11.65660482, 11.65269229,  8.32353539,  6.44904017,\n",
       "        5.07414436, 11.75158616,  7.98189477,  9.07060815,  4.87535787,\n",
       "       10.090269  ,  6.8293791 ,  3.27499421,  8.47654548,  9.67696692,\n",
       "        4.41391016,  3.27499421,  7.34312484,  2.99482073,  8.21811449,\n",
       "        9.89721768,  6.34935444,  7.87516932,  5.43697103,  6.66929093,\n",
       "       12.43142902,  8.35021675,  8.87051711,  6.00799204,  7.17623681,\n",
       "        9.80357388,  5.30356422,  4.44739138,  3.82142488,  7.76294856,\n",
       "        8.46322398,  9.63040406,  9.04914926, 11.53130243,  9.99714327,\n",
       "        5.72129691, 11.32334684,  9.73740235,  6.04253795, 10.73244433,\n",
       "       12.31790371,  7.35620648,  9.1304979 ,  7.25521621,  6.98266741,\n",
       "        6.15606326,  5.92063001,  9.94899764,  6.82333718,  7.86943415,\n",
       "       12.30482207,  8.87024428,  7.71010392,  7.2960439 , 10.57942885,\n",
       "        8.11138904,  6.51730717,  8.08182036, 10.23727553, 11.01103504,\n",
       "        6.15606326,  8.66908316,  9.62281235,  7.96201327,  3.44709934,\n",
       "        9.85745468,  9.10357668,  7.40850452,  6.62193621,  8.13518308,\n",
       "        7.15765986,  3.52034356,  4.50755397, 10.37589943,  9.78499693,\n",
       "        7.99655918, 11.55956656,  7.76871671,  4.57399833,  5.82750428,\n",
       "        5.48116465,  6.45477534,  5.38752084,  6.94132164,  5.51571057,\n",
       "        5.76105992, 10.15043159, 10.9430079 ,  6.14874532,  6.92302291,\n",
       "        6.92824   ,  8.64892883,  7.76164401,  7.64890962,  9.87053632,\n",
       "       11.03118938, 11.63802788,  5.74117841,  3.2404483 , 10.53914777,\n",
       "        9.83626324, 10.10386872,  6.41449425,  6.70118938,  5.68101583,\n",
       "        3.95459183,  4.86069346,  8.94242381,  8.94870559,  9.49541448,\n",
       "        8.02324054,  7.31644348,  7.68318269,  8.01094537, 11.14444185,\n",
       "       12.47981452,  8.06352163,  7.57539255,  4.68072378,  8.96337   ,\n",
       "        4.00847264,  5.4691477 , 11.30480286, 11.05131612, 10.34530554,\n",
       "       12.65298433,  9.53676025,  5.70876188,  3.58339347,  6.90314141,\n",
       "       10.78528897, 10.198299  , 11.40445561,  5.19446953,  9.13547513,\n",
       "        7.28976212,  6.92144014,  2.80781133,  7.60862853,  9.21030212,\n",
       "        6.47465684,  9.99034341, 11.22970303,  6.37473125,  6.59628656,\n",
       "       10.61603169,  7.87516932,  8.39808417,  9.03554954,  9.91081741,\n",
       "       10.23569276,  9.09677681,  9.31778552,  9.17706076,  5.96771095,\n",
       "        8.14332047,  8.00964082,  4.04899358, 11.53786243,  7.82860645,\n",
       "       10.85094687, 12.15781554,  6.14246354,  6.76293473, 10.12948539,\n",
       "        8.28847139,  8.30495844,  5.72916146, 11.90590619,  8.23851407,\n",
       "        7.41636907, 11.4096727 ,  7.68946447,  4.14709654,  2.88967805,\n",
       "       11.61134651,  4.84081196, 11.59829785])"
      ]
     },
     "execution_count": 36,
     "metadata": {},
     "output_type": "execute_result"
    }
   ],
   "source": [
    "pred_train"
   ]
  },
  {
   "cell_type": "code",
   "execution_count": 37,
   "id": "37423a14",
   "metadata": {},
   "outputs": [
    {
     "data": {
      "text/plain": [
       "array([ 9.26366485, 12.39977043,  4.16069626,  8.55528502,  9.20243757,\n",
       "        5.6276531 ,  7.7289537 ,  7.94999632,  4.43537443,  3.94854991,\n",
       "        8.04833913,  5.40112057, 12.96505627,  3.07984204,  7.59633875,\n",
       "       10.48262488,  8.53880892,  6.61802367,  7.52336736,  7.76844387,\n",
       "       12.34640771,  9.27595464,  8.15506458,  6.91464028,  7.03496545,\n",
       "        8.05620368,  5.18375713,  7.83488823, 10.24249262,  7.03627   ,\n",
       "       10.49752916, 11.71103224,  8.54457262, 10.62963142, 12.29122235,\n",
       "        5.99569687,  7.56965738, 10.00236036,  7.09749728,  4.36213021,\n",
       "       10.83734714,  9.89749052, 11.16325866,  5.75608269,  9.1503794 ,\n",
       "        7.44146766,  6.92274469,  4.34224871,  3.39373661,  9.45043439,\n",
       "        7.5094948 ,  6.9878845 ,  7.06219342, 11.35630998,  5.58109024,\n",
       "        5.29545981,  5.76968241,  7.31644348,  2.4957394 , 10.07718736,\n",
       "       10.93727273, 13.55204624, 10.91766407, 10.88573264,  3.24673008,\n",
       "        8.06379446,  5.6825986 ,  8.46895915,  4.41391016,  8.41666112,\n",
       "        4.82199515,  7.90971523,  9.27726457,  7.81552481,  8.87546136,\n",
       "        4.42177471,  3.68853615, 10.11066858,  8.09542008,  4.91563895,\n",
       "        3.03327918,  5.17589258,  8.97720959, 11.01103504,  5.88766687,\n",
       "       10.90952668, 10.71595728,  7.48174874,  5.46128315, 10.02275994,\n",
       "        7.40956921, 11.33121139,  6.78803332,  8.07660327,  7.01745319,\n",
       "       11.64352318, 10.34424084, 10.11066858,  7.98478209,  4.23500518,\n",
       "       13.28523262,  8.68189197,  6.47623961,  7.91493232,  9.82448616,\n",
       "        9.60213993, 10.81640095,  6.26120594,  9.91709919,  7.75536223,\n",
       "       12.02440873,  6.55418284,  7.00254891,  7.21599981,  9.08369517,\n",
       "        4.85547637,  7.96331782, 10.24589803,  7.70148142, 12.13058757,\n",
       "       10.72327522, 12.11935709,  6.13459899,  7.26308076,  7.44826752,\n",
       "        6.44327109,  6.93792718,  9.6236042 ,  4.73539106,  8.67743282,\n",
       "       10.95715423,  5.87588978,  5.65433447,  3.04114373,  5.84240856,\n",
       "        6.25467892,  9.21551921,  6.91622305, 10.47243057, 11.16614599,\n",
       "        5.9760882 ,  9.02874968,  8.9434885 ,  6.49560303,  5.33546267,\n",
       "        9.29817685,  2.60689546,  6.00905673,  3.20803177,  8.14826472,\n",
       "       11.61790651,  8.35832116, 10.70394033,  9.75542824,  7.70436875,\n",
       "       10.93909537, 11.97863678,  9.86947163,  3.80703869,  2.54099771,\n",
       "        8.7035961 ,  8.24373116, 11.98595028, 12.43325166,  5.45606068,\n",
       "        3.99563086,  8.04913005,  5.92114809,  8.56366765,  4.92192073,\n",
       "        9.42948819,  4.2420449 ,  9.3353263 , 12.98493777, 10.48444752,\n",
       "        4.84187665,  6.33445017,  9.69578374,  6.5609827 , 11.18420485,\n",
       "        7.02136572, 10.7306217 ])"
      ]
     },
     "execution_count": 37,
     "metadata": {},
     "output_type": "execute_result"
    }
   ],
   "source": [
    "pred_test"
   ]
  },
  {
   "cell_type": "code",
   "execution_count": 39,
   "id": "9d68cc54",
   "metadata": {},
   "outputs": [
    {
     "data": {
      "text/plain": [
       "0.8487666244239775"
      ]
     },
     "execution_count": 39,
     "metadata": {},
     "output_type": "execute_result"
    }
   ],
   "source": [
    "Rsq=lin_reg.score(df_train_x, df_train_y)\n",
    "Rsq"
   ]
  },
  {
   "cell_type": "code",
   "execution_count": 42,
   "id": "2c5adf2c",
   "metadata": {},
   "outputs": [],
   "source": [
    "N = df_train_x.shape[0]\n",
    "K = df_train_x.shape[1]"
   ]
  },
  {
   "cell_type": "code",
   "execution_count": 41,
   "id": "ff95b88c",
   "metadata": {},
   "outputs": [
    {
     "data": {
      "text/plain": [
       "(543, 5)"
      ]
     },
     "execution_count": 41,
     "metadata": {},
     "output_type": "execute_result"
    }
   ],
   "source": [
    "df_train_x.shape"
   ]
  },
  {
   "cell_type": "code",
   "execution_count": 44,
   "id": "92fae168",
   "metadata": {},
   "outputs": [
    {
     "data": {
      "text/plain": [
       "0.847358492435374"
      ]
     },
     "execution_count": 44,
     "metadata": {},
     "output_type": "execute_result"
    }
   ],
   "source": [
    "Adj_Rsq = 1-(1-Rsq)*(N-1)/(N-K-1)\n",
    "Adj_Rsq"
   ]
  },
  {
   "cell_type": "code",
   "execution_count": 46,
   "id": "6e122e4e",
   "metadata": {},
   "outputs": [],
   "source": [
    "err_train = df_train_y - pred_train\n",
    "err_test = df_test_y - pred_test"
   ]
  },
  {
   "cell_type": "code",
   "execution_count": 47,
   "id": "d65f07ee",
   "metadata": {},
   "outputs": [
    {
     "data": {
      "text/plain": [
       "1.0035482003121086"
      ]
     },
     "execution_count": 47,
     "metadata": {},
     "output_type": "execute_result"
    }
   ],
   "source": [
    "mse = np.mean(np.square(err_test))\n",
    "mse"
   ]
  },
  {
   "cell_type": "code",
   "execution_count": 48,
   "id": "7c801a90",
   "metadata": {},
   "outputs": [
    {
     "data": {
      "text/plain": [
       "1.0017725292261255"
      ]
     },
     "execution_count": 48,
     "metadata": {},
     "output_type": "execute_result"
    }
   ],
   "source": [
    "rmse=np.sqrt(mse)\n",
    "rmse"
   ]
  },
  {
   "cell_type": "code",
   "execution_count": 50,
   "id": "70f6daf3",
   "metadata": {},
   "outputs": [
    {
     "data": {
      "text/plain": [
       "12.403444691147918"
      ]
     },
     "execution_count": 50,
     "metadata": {},
     "output_type": "execute_result"
    }
   ],
   "source": [
    "mape = np.mean(np.abs(err_test*100/df_test_y))\n",
    "mape"
   ]
  },
  {
   "cell_type": "code",
   "execution_count": 51,
   "id": "6c967a75",
   "metadata": {},
   "outputs": [
    {
     "data": {
      "text/plain": [
       "-4.6780668146268105e-16"
      ]
     },
     "execution_count": 51,
     "metadata": {},
     "output_type": "execute_result"
    }
   ],
   "source": [
    "np.mean(err_train)"
   ]
  },
  {
   "cell_type": "code",
   "execution_count": 52,
   "id": "42de386b",
   "metadata": {},
   "outputs": [],
   "source": [
    "import matplotlib.pyplot as plt"
   ]
  },
  {
   "cell_type": "code",
   "execution_count": 53,
   "id": "f08427ba",
   "metadata": {},
   "outputs": [
    {
     "data": {
      "text/plain": [
       "[<matplotlib.lines.Line2D at 0x186c1125cd0>]"
      ]
     },
     "execution_count": 53,
     "metadata": {},
     "output_type": "execute_result"
    },
    {
     "data": {
      "image/png": "[encoded data removed]",
      "text/plain": [
       "<Figure size 640x480 with 1 Axes>"
      ]
     },
     "metadata": {},
     "output_type": "display_data"
    }
   ],
   "source": [
    "plt.plot(err_train , \"*\")"
   ]
  },
  {
   "cell_type": "code",
   "execution_count": 54,
   "id": "cb83e85e",
   "metadata": {},
   "outputs": [
    {
     "data": {
      "text/plain": [
       "(array([ 1.,  0.,  3., 14., 10., 20., 30., 50., 59., 54., 66., 68., 51.,\n",
       "        44., 31., 21., 14.,  4.,  2.,  1.]),\n",
       " array([-3.28357613, -2.96637218, -2.64916822, -2.33196427, -2.01476031,\n",
       "        -1.69755636, -1.38035241, -1.06314845, -0.7459445 , -0.42874055,\n",
       "        -0.11153659,  0.20566736,  0.52287132,  0.84007527,  1.15727922,\n",
       "         1.47448318,  1.79168713,  2.10889109,  2.42609504,  2.74329899,\n",
       "         3.06050295]),\n",
       " <BarContainer object of 20 artists>)"
      ]
     },
     "execution_count": 54,
     "metadata": {},
     "output_type": "execute_result"
    },
    {
     "data": {
      "image/png": "[encoded data removed]",
      "text/plain": [
       "<Figure size 640x480 with 1 Axes>"
      ]
     },
     "metadata": {},
     "output_type": "display_data"
    }
   ],
   "source": [
    "plt.hist(err_train , bins=20, edgecolor=\"black\")"
   ]
  },
  {
   "cell_type": "code",
   "execution_count": 55,
   "id": "3200978a",
   "metadata": {},
   "outputs": [
    {
     "data": {
      "text/plain": [
       "(543, 2)"
      ]
     },
     "execution_count": 55,
     "metadata": {},
     "output_type": "execute_result"
    }
   ],
   "source": [
    "pred_actual_df = pd.DataFrame()\n",
    "pred_actual_df[\"Actual\"]= df_train_y\n",
    "pred_actual_df['predict']= pred_train\n",
    "\n",
    "pred_actual_df.shape"
   ]
  },
  {
   "cell_type": "code",
   "execution_count": 56,
   "id": "ca6624ec",
   "metadata": {},
   "outputs": [
    {
     "data": {
      "text/html": [
       "<div>\n",
       "<style scoped>\n",
       "    .dataframe tbody tr th:only-of-type {\n",
       "        vertical-align: middle;\n",
       "    }\n",
       "\n",
       "    .dataframe tbody tr th {\n",
       "        vertical-align: top;\n",
       "    }\n",
       "\n",
       "    .dataframe thead th {\n",
       "        text-align: right;\n",
       "    }\n",
       "</style>\n",
       "<table border=\"1\" class=\"dataframe\">\n",
       "  <thead>\n",
       "    <tr style=\"text-align: right;\">\n",
       "      <th></th>\n",
       "      <th>Actual</th>\n",
       "      <th>predict</th>\n",
       "    </tr>\n",
       "  </thead>\n",
       "  <tbody>\n",
       "    <tr>\n",
       "      <th>285</th>\n",
       "      <td>6.200</td>\n",
       "      <td>7.930355</td>\n",
       "    </tr>\n",
       "    <tr>\n",
       "      <th>437</th>\n",
       "      <td>8.425</td>\n",
       "      <td>8.748854</td>\n",
       "    </tr>\n",
       "    <tr>\n",
       "      <th>302</th>\n",
       "      <td>6.550</td>\n",
       "      <td>6.429159</td>\n",
       "    </tr>\n",
       "    <tr>\n",
       "      <th>347</th>\n",
       "      <td>5.025</td>\n",
       "      <td>5.053745</td>\n",
       "    </tr>\n",
       "    <tr>\n",
       "      <th>359</th>\n",
       "      <td>3.675</td>\n",
       "      <td>5.062127</td>\n",
       "    </tr>\n",
       "  </tbody>\n",
       "</table>\n",
       "</div>"
      ],
      "text/plain": [
       "     Actual   predict\n",
       "285   6.200  7.930355\n",
       "437   8.425  8.748854\n",
       "302   6.550  6.429159\n",
       "347   5.025  5.053745\n",
       "359   3.675  5.062127"
      ]
     },
     "execution_count": 56,
     "metadata": {},
     "output_type": "execute_result"
    }
   ],
   "source": [
    "pred_actual_df.head()"
   ]
  },
  {
   "cell_type": "code",
   "execution_count": 58,
   "id": "2083efde",
   "metadata": {},
   "outputs": [],
   "source": [
    "import seaborn as sns"
   ]
  },
  {
   "cell_type": "code",
   "execution_count": 59,
   "id": "a8879fcc",
   "metadata": {},
   "outputs": [
    {
     "data": {
      "text/plain": [
       "<seaborn.axisgrid.JointGrid at 0x186c28ae990>"
      ]
     },
     "execution_count": 59,
     "metadata": {},
     "output_type": "execute_result"
    },
    {
     "data": {
      "image/png": "[encoded data removed]",
      "text/plain": [
       "<Figure size 600x600 with 3 Axes>"
      ]
     },
     "metadata": {},
     "output_type": "display_data"
    }
   ],
   "source": [
    "sns.jointplot(x='Actual' ,y=\"predict\" , data = pred_actual_df , kind= 'reg')"
   ]
  },
  {
   "cell_type": "code",
   "execution_count": null,
   "id": "e98510e6",
   "metadata": {},
   "outputs": [],
   "source": []
  },
  {
   "cell_type": "code",
   "execution_count": null,
   "id": "77c109bd",
   "metadata": {},
   "outputs": [],
   "source": [
    "\n"
   ]
  },
  {
   "cell_type": "code",
   "execution_count": null,
   "id": "0e4ac079",
   "metadata": {},
   "outputs": [],
   "source": []
  },
  {
   "cell_type": "code",
   "execution_count": null,
   "id": "4e68ca4a",
   "metadata": {},
   "outputs": [],
   "source": []
  }
 ],
 "metadata": {
  "kernelspec": {
   "display_name": "Python 3 (ipykernel)",
   "language": "python",
   "name": "python3"
  },
  "language_info": {
   "codemirror_mode": {
    "name": "ipython",
    "version": 3
   },
   "file_extension": ".py",
   "mimetype": "text/x-python",
   "name": "python",
   "nbconvert_exporter": "python",
   "pygments_lexer": "ipython3",
   "version": "3.11.3"
  }
 },
 "nbformat": 4,
 "nbformat_minor": 5
}
